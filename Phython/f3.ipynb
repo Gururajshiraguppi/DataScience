{
 "cells": [
  {
   "cell_type": "code",
   "execution_count": null,
   "metadata": {},
   "outputs": [],
   "source": [
    "# function\n",
    "def mydetail():\n",
    "    fname = input ('Enter first name:')\n",
    "    lname = input ('Enter last name:')\n",
    "    dob = input ('enter dob :')\n",
    "    print(f'Employee f name is {fname+lname} and dob is {dob}')\n",
    "    return (20)\n",
    "print (mydetail())\n",
    "print (10)"
   ]
  },
  {
   "cell_type": "code",
   "execution_count": 25,
   "metadata": {},
   "outputs": [
    {
     "name": "stdout",
     "output_type": "stream",
     "text": [
      "Enter first number4\n",
      "Enter 2nd number2\n",
      "addition\n",
      "6\n",
      "subtract\n",
      "2\n",
      "multiply\n",
      "8\n",
      "divide\n",
      "2.0\n"
     ]
    }
   ],
   "source": [
    "num1 = int(input('Enter first number'))\n",
    "num2 = int(input('Enter 2nd number'))\n",
    "def airthmeticoperations(a,b):\n",
    "    print ('addition')\n",
    "    print (a+b)\n",
    "    print ('subtract')\n",
    "    print (a-b)\n",
    "    print ('multiply')\n",
    "    print (a*b)\n",
    "    print ('divide')\n",
    "    print (a/b)\n",
    "airthmeticoperations(num1,num2)"
   ]
  },
  {
   "cell_type": "code",
   "execution_count": 26,
   "metadata": {},
   "outputs": [
    {
     "name": "stdout",
     "output_type": "stream",
     "text": [
      "1\n",
      "2\n",
      "3\n",
      "5\n",
      "8\n",
      "13\n",
      "21\n",
      "34\n"
     ]
    }
   ],
   "source": [
    "def fib(n, i=0, j=1):\n",
    "    k=i+j\n",
    "    if (k<=n):\n",
    "        i=j\n",
    "        j=k\n",
    "        print (k)\n",
    "        fib(n,i,j)\n",
    "                \n",
    "fib(50)"
   ]
  },
  {
   "cell_type": "code",
   "execution_count": null,
   "metadata": {},
   "outputs": [],
   "source": []
  },
  {
   "cell_type": "code",
   "execution_count": null,
   "metadata": {},
   "outputs": [],
   "source": []
  }
 ],
 "metadata": {
  "kernelspec": {
   "display_name": "Python 3",
   "language": "python",
   "name": "python3"
  },
  "language_info": {
   "codemirror_mode": {
    "name": "ipython",
    "version": 3
   },
   "file_extension": ".py",
   "mimetype": "text/x-python",
   "name": "python",
   "nbconvert_exporter": "python",
   "pygments_lexer": "ipython3",
   "version": "3.8.3"
  }
 },
 "nbformat": 4,
 "nbformat_minor": 4
}
