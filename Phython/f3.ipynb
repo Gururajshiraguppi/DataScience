{
 "cells": [
  {
   "cell_type": "code",
   "execution_count": null,
   "metadata": {},
   "outputs": [],
   "source": [
    "# function\n",
    "def mydetail():\n",
    "    fname = input ('Enter first name:')\n",
    "    lname = input ('Enter last name:')\n",
    "    dob = input ('enter dob :')\n",
    "    print(f'Employee f name is {fname+lname} and dob is {dob}')\n",
    "    return (20)\n",
    "print (mydetail())\n",
    "print (10)"
   ]
  },
  {
   "cell_type": "code",
   "execution_count": 25,
   "metadata": {},
   "outputs": [
    {
     "name": "stdout",
     "output_type": "stream",
     "text": [
      "Enter first number4\n",
      "Enter 2nd number2\n",
      "addition\n",
      "6\n",
      "subtract\n",
      "2\n",
      "multiply\n",
      "8\n",
      "divide\n",
      "2.0\n"
     ]
    }
   ],
   "source": [
    "num1 = int(input('Enter first number'))\n",
    "num2 = int(input('Enter 2nd number'))\n",
    "def airthmeticoperations(a,b):\n",
    "    print ('addition')\n",
    "    print (a+b)\n",
    "    print ('subtract')\n",
    "    print (a-b)\n",
    "    print ('multiply')\n",
    "    print (a*b)\n",
    "    print ('divide')\n",
    "    print (a/b)\n",
    "airthmeticoperations(num1,num2)"
   ]
  },
  {
   "cell_type": "code",
   "execution_count": 26,
   "metadata": {},
   "outputs": [
    {
     "name": "stdout",
     "output_type": "stream",
     "text": [
      "1\n",
      "2\n",
      "3\n",
      "5\n",
      "8\n",
      "13\n",
      "21\n",
      "34\n"
     ]
    }
   ],
   "source": [
    "def fib(n, i=0, j=1):\n",
    "    k=i+j\n",
    "    if (k<=n):\n",
    "        i=j\n",
    "        j=k\n",
    "        print (k)\n",
    "        fib(n,i,j)\n",
    "                \n",
    "fib(50)"
   ]
  },
  {
   "cell_type": "code",
   "execution_count": 4,
   "metadata": {},
   "outputs": [
    {
     "data": {
      "text/plain": [
       "array([1505, 1540, 1575, 1610, 1645, 1680, 1715, 1750, 1785, 1820, 1855,\n",
       "       1890, 1925, 1960, 1995, 2030, 2065, 2100, 2135, 2170, 2205, 2240,\n",
       "       2275, 2310, 2345, 2380, 2415, 2450, 2485, 2520, 2555, 2590, 2625,\n",
       "       2660, 2695])"
      ]
     },
     "execution_count": 4,
     "metadata": {},
     "output_type": "execute_result"
    }
   ],
   "source": [
    "import numpy as np\n",
    "myarray = np.array(range(1500, 2701))\n",
    "myarray[(myarray % 7 == 0) & (myarray % 5 == 0)]\n",
    "#myarray"
   ]
  },
  {
   "cell_type": "code",
   "execution_count": 3,
   "metadata": {},
   "outputs": [
    {
     "name": "stdout",
     "output_type": "stream",
     "text": [
      "1505\n",
      "1540\n",
      "1575\n",
      "1610\n",
      "1645\n",
      "1680\n",
      "1715\n",
      "1750\n",
      "1785\n",
      "1820\n",
      "1855\n",
      "1890\n",
      "1925\n",
      "1960\n",
      "1995\n",
      "2030\n",
      "2065\n",
      "2100\n",
      "2135\n",
      "2170\n",
      "2205\n",
      "2240\n",
      "2275\n",
      "2310\n",
      "2345\n",
      "2380\n",
      "2415\n",
      "2450\n",
      "2485\n",
      "2520\n",
      "2555\n",
      "2590\n",
      "2625\n",
      "2660\n",
      "2695\n"
     ]
    }
   ],
   "source": [
    "for i in range (1500, 2700):\n",
    "    if ((i%7 ==0) and (i%5 == 0)):\n",
    "        print (i)"
   ]
  },
  {
   "cell_type": "code",
   "execution_count": null,
   "metadata": {},
   "outputs": [],
   "source": []
  }
 ],
 "metadata": {
  "kernelspec": {
   "display_name": "Python 3",
   "language": "python",
   "name": "python3"
  },
  "language_info": {
   "codemirror_mode": {
    "name": "ipython",
    "version": 3
   },
   "file_extension": ".py",
   "mimetype": "text/x-python",
   "name": "python",
   "nbconvert_exporter": "python",
   "pygments_lexer": "ipython3",
   "version": "3.8.3"
  }
 },
 "nbformat": 4,
 "nbformat_minor": 4
}
